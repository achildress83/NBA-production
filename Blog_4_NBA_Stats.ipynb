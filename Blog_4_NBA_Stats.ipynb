{
 "cells": [
  {
   "cell_type": "code",
   "execution_count": 1,
   "metadata": {},
   "outputs": [],
   "source": [
    "import pandas as pd\n",
    "import numpy as np\n",
    "import matplotlib.pyplot as plt\n",
    "%matplotlib inline\n",
    "import seaborn as sns"
   ]
  },
  {
   "cell_type": "markdown",
   "metadata": {},
   "source": [
    "### Goal: Testing Price's Law using NBA statistics\n",
    "Price's well-known square root law states that half of the literature on a subject will be contributed by the square root of the total number of authors publishing in that area. It was specific to academic journals, but has been generalized to \"The square root of the number of people in a domain do 50% of the work\". The objective of this analysis is to do a case study of NBA statistics for the 2018-2019 regular season to see whether statistics are consistent with this generally accepted principle. \n",
    "\n",
    "#### Method\n",
    "To assess the relevance of this principle in the NBA, I look at 14 categories. One category, minutes played, represents the opportunity to produce, while the remaining categories represent actual production. Production is defined across 13 categories including points scores, field goals made, three pointers made, free throws made, rebounds, steals , assists, and blocks.\n",
    "\n",
    "#### Data Source: NBA.com\n",
    "\n",
    "#### Glossary\n",
    "GP Games Played, MIN Minutes Played, PTS Points, FGM Field Goals Made, FGA Field Goals Attempted, FG% Field Goal Percentage, 3PM 3 Point Field Goals Made, 3PA 3 Point Field Goals Attempted, 3P% 3 Point Field Goals Percentage, FTM Free Throws Made, FTA Free Throws Attempted, FT% Free Throw Percentage, OREB Offensive Rebounds, DREB Defensive Rebounds, REB Rebounds, AST Assists, STL Steals, BLK Blocks"
   ]
  },
  {
   "cell_type": "code",
   "execution_count": 13,
   "metadata": {},
   "outputs": [
    {
     "name": "stdout",
     "output_type": "stream",
     "text": [
      "[ 100  200  300  400  500  600  700  800  900 1000]\n",
      "[10. 14. 17. 20. 22. 24. 26. 28. 30. 32.]\n",
      "[ 90. 186. 283. 380. 478. 576. 674. 772. 870. 968.]\n"
     ]
    }
   ],
   "source": [
    "# Generalized scaling of Price's Law\n",
    "samples = np.arange(100,1001,100)\n",
    "price = np.round_(np.sqrt(samples),0)\n",
    "remainder = samples - price\n",
    "print(samples)\n",
    "print(price)\n",
    "print(remainder)"
   ]
  },
  {
   "cell_type": "code",
   "execution_count": 34,
   "metadata": {},
   "outputs": [
    {
     "data": {
      "text/html": [
       "<div>\n",
       "<style scoped>\n",
       "    .dataframe tbody tr th:only-of-type {\n",
       "        vertical-align: middle;\n",
       "    }\n",
       "\n",
       "    .dataframe tbody tr th {\n",
       "        vertical-align: top;\n",
       "    }\n",
       "\n",
       "    .dataframe thead th {\n",
       "        text-align: right;\n",
       "    }\n",
       "</style>\n",
       "<table border=\"1\" class=\"dataframe\">\n",
       "  <thead>\n",
       "    <tr style=\"text-align: right;\">\n",
       "      <th></th>\n",
       "      <th>PLAYER</th>\n",
       "      <th>GP</th>\n",
       "      <th>MIN</th>\n",
       "      <th>PTS</th>\n",
       "      <th>FGM</th>\n",
       "      <th>FGA</th>\n",
       "      <th>FG%</th>\n",
       "      <th>3PM</th>\n",
       "      <th>3PA</th>\n",
       "      <th>3P%</th>\n",
       "      <th>...</th>\n",
       "      <th>FT%</th>\n",
       "      <th>OREB</th>\n",
       "      <th>DREB</th>\n",
       "      <th>REB</th>\n",
       "      <th>AST</th>\n",
       "      <th>STL</th>\n",
       "      <th>BLK</th>\n",
       "      <th>TOV</th>\n",
       "      <th>PF</th>\n",
       "      <th>EFF</th>\n",
       "    </tr>\n",
       "  </thead>\n",
       "  <tbody>\n",
       "    <tr>\n",
       "      <td>0</td>\n",
       "      <td>James Harden</td>\n",
       "      <td>78</td>\n",
       "      <td>2867</td>\n",
       "      <td>2818</td>\n",
       "      <td>843</td>\n",
       "      <td>1909</td>\n",
       "      <td>44.2</td>\n",
       "      <td>378</td>\n",
       "      <td>1028</td>\n",
       "      <td>36.8</td>\n",
       "      <td>...</td>\n",
       "      <td>87.9</td>\n",
       "      <td>66</td>\n",
       "      <td>452</td>\n",
       "      <td>518</td>\n",
       "      <td>586</td>\n",
       "      <td>158</td>\n",
       "      <td>58</td>\n",
       "      <td>387</td>\n",
       "      <td>244</td>\n",
       "      <td>2581</td>\n",
       "    </tr>\n",
       "    <tr>\n",
       "      <td>1</td>\n",
       "      <td>Paul George</td>\n",
       "      <td>77</td>\n",
       "      <td>2841</td>\n",
       "      <td>2159</td>\n",
       "      <td>707</td>\n",
       "      <td>1614</td>\n",
       "      <td>43.8</td>\n",
       "      <td>292</td>\n",
       "      <td>757</td>\n",
       "      <td>38.6</td>\n",
       "      <td>...</td>\n",
       "      <td>83.9</td>\n",
       "      <td>105</td>\n",
       "      <td>523</td>\n",
       "      <td>628</td>\n",
       "      <td>318</td>\n",
       "      <td>170</td>\n",
       "      <td>34</td>\n",
       "      <td>205</td>\n",
       "      <td>214</td>\n",
       "      <td>2110</td>\n",
       "    </tr>\n",
       "    <tr>\n",
       "      <td>2</td>\n",
       "      <td>Kemba Walker</td>\n",
       "      <td>82</td>\n",
       "      <td>2863</td>\n",
       "      <td>2102</td>\n",
       "      <td>731</td>\n",
       "      <td>1684</td>\n",
       "      <td>43.4</td>\n",
       "      <td>260</td>\n",
       "      <td>731</td>\n",
       "      <td>35.6</td>\n",
       "      <td>...</td>\n",
       "      <td>84.4</td>\n",
       "      <td>52</td>\n",
       "      <td>309</td>\n",
       "      <td>361</td>\n",
       "      <td>484</td>\n",
       "      <td>102</td>\n",
       "      <td>34</td>\n",
       "      <td>211</td>\n",
       "      <td>131</td>\n",
       "      <td>1849</td>\n",
       "    </tr>\n",
       "    <tr>\n",
       "      <td>3</td>\n",
       "      <td>Bradley Beal</td>\n",
       "      <td>82</td>\n",
       "      <td>3028</td>\n",
       "      <td>2099</td>\n",
       "      <td>764</td>\n",
       "      <td>1609</td>\n",
       "      <td>47.5</td>\n",
       "      <td>209</td>\n",
       "      <td>596</td>\n",
       "      <td>35.1</td>\n",
       "      <td>...</td>\n",
       "      <td>80.8</td>\n",
       "      <td>89</td>\n",
       "      <td>322</td>\n",
       "      <td>411</td>\n",
       "      <td>448</td>\n",
       "      <td>121</td>\n",
       "      <td>58</td>\n",
       "      <td>224</td>\n",
       "      <td>226</td>\n",
       "      <td>1982</td>\n",
       "    </tr>\n",
       "    <tr>\n",
       "      <td>4</td>\n",
       "      <td>Damian Lillard</td>\n",
       "      <td>80</td>\n",
       "      <td>2838</td>\n",
       "      <td>2067</td>\n",
       "      <td>681</td>\n",
       "      <td>1533</td>\n",
       "      <td>44.4</td>\n",
       "      <td>237</td>\n",
       "      <td>643</td>\n",
       "      <td>36.9</td>\n",
       "      <td>...</td>\n",
       "      <td>91.2</td>\n",
       "      <td>68</td>\n",
       "      <td>303</td>\n",
       "      <td>371</td>\n",
       "      <td>551</td>\n",
       "      <td>88</td>\n",
       "      <td>34</td>\n",
       "      <td>212</td>\n",
       "      <td>148</td>\n",
       "      <td>2002</td>\n",
       "    </tr>\n",
       "  </tbody>\n",
       "</table>\n",
       "<p>5 rows × 22 columns</p>\n",
       "</div>"
      ],
      "text/plain": [
       "           PLAYER  GP   MIN   PTS  FGM   FGA   FG%  3PM   3PA   3P%  ...  \\\n",
       "0    James Harden  78  2867  2818  843  1909  44.2  378  1028  36.8  ...   \n",
       "1     Paul George  77  2841  2159  707  1614  43.8  292   757  38.6  ...   \n",
       "2    Kemba Walker  82  2863  2102  731  1684  43.4  260   731  35.6  ...   \n",
       "3    Bradley Beal  82  3028  2099  764  1609  47.5  209   596  35.1  ...   \n",
       "4  Damian Lillard  80  2838  2067  681  1533  44.4  237   643  36.9  ...   \n",
       "\n",
       "    FT%  OREB  DREB  REB  AST  STL  BLK  TOV   PF   EFF  \n",
       "0  87.9    66   452  518  586  158   58  387  244  2581  \n",
       "1  83.9   105   523  628  318  170   34  205  214  2110  \n",
       "2  84.4    52   309  361  484  102   34  211  131  1849  \n",
       "3  80.8    89   322  411  448  121   58  224  226  1982  \n",
       "4  91.2    68   303  371  551   88   34  212  148  2002  \n",
       "\n",
       "[5 rows x 22 columns]"
      ]
     },
     "execution_count": 34,
     "metadata": {},
     "output_type": "execute_result"
    }
   ],
   "source": [
    "player_df = pd.read_csv('NBA_Player_Stats.csv')\n",
    "player_df.head()"
   ]
  },
  {
   "cell_type": "code",
   "execution_count": 35,
   "metadata": {},
   "outputs": [
    {
     "name": "stdout",
     "output_type": "stream",
     "text": [
      "<class 'pandas.core.frame.DataFrame'>\n",
      "RangeIndex: 530 entries, 0 to 529\n",
      "Data columns (total 22 columns):\n",
      "PLAYER    530 non-null object\n",
      "GP        530 non-null int64\n",
      "MIN       530 non-null int64\n",
      "PTS       530 non-null int64\n",
      "FGM       530 non-null int64\n",
      "FGA       530 non-null int64\n",
      "FG%       530 non-null float64\n",
      "3PM       530 non-null int64\n",
      "3PA       530 non-null int64\n",
      "3P%       530 non-null float64\n",
      "FTM       530 non-null int64\n",
      "FTA       530 non-null int64\n",
      "FT%       530 non-null float64\n",
      "OREB      530 non-null int64\n",
      "DREB      530 non-null int64\n",
      "REB       530 non-null int64\n",
      "AST       530 non-null int64\n",
      "STL       530 non-null int64\n",
      "BLK       530 non-null int64\n",
      "TOV       530 non-null int64\n",
      "PF        530 non-null int64\n",
      "EFF       530 non-null int64\n",
      "dtypes: float64(3), int64(18), object(1)\n",
      "memory usage: 91.2+ KB\n"
     ]
    }
   ],
   "source": [
    "player_df.info()"
   ]
  },
  {
   "cell_type": "code",
   "execution_count": 7,
   "metadata": {},
   "outputs": [
    {
     "data": {
      "text/html": [
       "<div>\n",
       "<style scoped>\n",
       "    .dataframe tbody tr th:only-of-type {\n",
       "        vertical-align: middle;\n",
       "    }\n",
       "\n",
       "    .dataframe tbody tr th {\n",
       "        vertical-align: top;\n",
       "    }\n",
       "\n",
       "    .dataframe thead th {\n",
       "        text-align: right;\n",
       "    }\n",
       "</style>\n",
       "<table border=\"1\" class=\"dataframe\">\n",
       "  <thead>\n",
       "    <tr style=\"text-align: right;\">\n",
       "      <th></th>\n",
       "      <th>TEAM</th>\n",
       "      <th>GP</th>\n",
       "      <th>W</th>\n",
       "      <th>L</th>\n",
       "      <th>WIN%</th>\n",
       "      <th>MIN</th>\n",
       "      <th>PTS</th>\n",
       "      <th>FGM</th>\n",
       "      <th>FGA</th>\n",
       "      <th>FG%</th>\n",
       "      <th>...</th>\n",
       "      <th>DREB</th>\n",
       "      <th>REB</th>\n",
       "      <th>AST</th>\n",
       "      <th>TOV</th>\n",
       "      <th>STL</th>\n",
       "      <th>BLK</th>\n",
       "      <th>BLKA</th>\n",
       "      <th>PF</th>\n",
       "      <th>PFD</th>\n",
       "      <th>+/-</th>\n",
       "    </tr>\n",
       "  </thead>\n",
       "  <tbody>\n",
       "    <tr>\n",
       "      <td>0</td>\n",
       "      <td>Washington Wizards</td>\n",
       "      <td>82</td>\n",
       "      <td>32</td>\n",
       "      <td>50</td>\n",
       "      <td>0.390</td>\n",
       "      <td>3986</td>\n",
       "      <td>9350</td>\n",
       "      <td>3456</td>\n",
       "      <td>7387</td>\n",
       "      <td>46.8</td>\n",
       "      <td>...</td>\n",
       "      <td>2679</td>\n",
       "      <td>3473</td>\n",
       "      <td>2154</td>\n",
       "      <td>1154</td>\n",
       "      <td>683</td>\n",
       "      <td>379</td>\n",
       "      <td>378</td>\n",
       "      <td>1701</td>\n",
       "      <td>1741</td>\n",
       "      <td>-238</td>\n",
       "    </tr>\n",
       "    <tr>\n",
       "      <td>1</td>\n",
       "      <td>Utah Jazz</td>\n",
       "      <td>82</td>\n",
       "      <td>50</td>\n",
       "      <td>32</td>\n",
       "      <td>0.610</td>\n",
       "      <td>3951</td>\n",
       "      <td>9161</td>\n",
       "      <td>3314</td>\n",
       "      <td>7082</td>\n",
       "      <td>46.8</td>\n",
       "      <td>...</td>\n",
       "      <td>2981</td>\n",
       "      <td>3801</td>\n",
       "      <td>2133</td>\n",
       "      <td>1240</td>\n",
       "      <td>663</td>\n",
       "      <td>483</td>\n",
       "      <td>376</td>\n",
       "      <td>1728</td>\n",
       "      <td>1835</td>\n",
       "      <td>431</td>\n",
       "    </tr>\n",
       "    <tr>\n",
       "      <td>2</td>\n",
       "      <td>Toronto Raptors</td>\n",
       "      <td>82</td>\n",
       "      <td>58</td>\n",
       "      <td>24</td>\n",
       "      <td>0.707</td>\n",
       "      <td>3976</td>\n",
       "      <td>9384</td>\n",
       "      <td>3460</td>\n",
       "      <td>7305</td>\n",
       "      <td>47.4</td>\n",
       "      <td>...</td>\n",
       "      <td>2920</td>\n",
       "      <td>3706</td>\n",
       "      <td>2085</td>\n",
       "      <td>1150</td>\n",
       "      <td>680</td>\n",
       "      <td>437</td>\n",
       "      <td>368</td>\n",
       "      <td>1724</td>\n",
       "      <td>1683</td>\n",
       "      <td>499</td>\n",
       "    </tr>\n",
       "    <tr>\n",
       "      <td>3</td>\n",
       "      <td>San Antonio Spurs</td>\n",
       "      <td>82</td>\n",
       "      <td>48</td>\n",
       "      <td>34</td>\n",
       "      <td>0.585</td>\n",
       "      <td>3961</td>\n",
       "      <td>9156</td>\n",
       "      <td>3468</td>\n",
       "      <td>7248</td>\n",
       "      <td>47.8</td>\n",
       "      <td>...</td>\n",
       "      <td>2910</td>\n",
       "      <td>3667</td>\n",
       "      <td>2013</td>\n",
       "      <td>992</td>\n",
       "      <td>501</td>\n",
       "      <td>386</td>\n",
       "      <td>332</td>\n",
       "      <td>1487</td>\n",
       "      <td>1611</td>\n",
       "      <td>138</td>\n",
       "    </tr>\n",
       "    <tr>\n",
       "      <td>4</td>\n",
       "      <td>Sacramento Kings</td>\n",
       "      <td>82</td>\n",
       "      <td>39</td>\n",
       "      <td>43</td>\n",
       "      <td>0.476</td>\n",
       "      <td>3946</td>\n",
       "      <td>9363</td>\n",
       "      <td>3541</td>\n",
       "      <td>7637</td>\n",
       "      <td>46.4</td>\n",
       "      <td>...</td>\n",
       "      <td>2819</td>\n",
       "      <td>3725</td>\n",
       "      <td>2083</td>\n",
       "      <td>1095</td>\n",
       "      <td>679</td>\n",
       "      <td>363</td>\n",
       "      <td>420</td>\n",
       "      <td>1751</td>\n",
       "      <td>1753</td>\n",
       "      <td>-92</td>\n",
       "    </tr>\n",
       "  </tbody>\n",
       "</table>\n",
       "<p>5 rows × 27 columns</p>\n",
       "</div>"
      ],
      "text/plain": [
       "                 TEAM  GP   W   L   WIN%   MIN   PTS   FGM   FGA   FG%  ...  \\\n",
       "0  Washington Wizards  82  32  50  0.390  3986  9350  3456  7387  46.8  ...   \n",
       "1           Utah Jazz  82  50  32  0.610  3951  9161  3314  7082  46.8  ...   \n",
       "2     Toronto Raptors  82  58  24  0.707  3976  9384  3460  7305  47.4  ...   \n",
       "3   San Antonio Spurs  82  48  34  0.585  3961  9156  3468  7248  47.8  ...   \n",
       "4    Sacramento Kings  82  39  43  0.476  3946  9363  3541  7637  46.4  ...   \n",
       "\n",
       "   DREB   REB   AST   TOV  STL  BLK  BLKA    PF   PFD  +/-  \n",
       "0  2679  3473  2154  1154  683  379   378  1701  1741 -238  \n",
       "1  2981  3801  2133  1240  663  483   376  1728  1835  431  \n",
       "2  2920  3706  2085  1150  680  437   368  1724  1683  499  \n",
       "3  2910  3667  2013   992  501  386   332  1487  1611  138  \n",
       "4  2819  3725  2083  1095  679  363   420  1751  1753  -92  \n",
       "\n",
       "[5 rows x 27 columns]"
      ]
     },
     "execution_count": 7,
     "metadata": {},
     "output_type": "execute_result"
    }
   ],
   "source": [
    "team_df = pd.read_csv('NBA_Team_Stats.csv')\n",
    "team_df.head()"
   ]
  },
  {
   "cell_type": "code",
   "execution_count": 8,
   "metadata": {},
   "outputs": [
    {
     "name": "stdout",
     "output_type": "stream",
     "text": [
      "<class 'pandas.core.frame.DataFrame'>\n",
      "RangeIndex: 30 entries, 0 to 29\n",
      "Data columns (total 27 columns):\n",
      "TEAM    30 non-null object\n",
      "GP      30 non-null int64\n",
      "W       30 non-null int64\n",
      "L       30 non-null int64\n",
      "WIN%    30 non-null float64\n",
      "MIN     30 non-null int64\n",
      "PTS     30 non-null int64\n",
      "FGM     30 non-null int64\n",
      "FGA     30 non-null int64\n",
      "FG%     30 non-null float64\n",
      "3PM     30 non-null int64\n",
      "3PA     30 non-null int64\n",
      "3P%     30 non-null float64\n",
      "FTM     30 non-null int64\n",
      "FTA     30 non-null int64\n",
      "FT%     30 non-null float64\n",
      "OREB    30 non-null int64\n",
      "DREB    30 non-null int64\n",
      "REB     30 non-null int64\n",
      "AST     30 non-null int64\n",
      "TOV     30 non-null int64\n",
      "STL     30 non-null int64\n",
      "BLK     30 non-null int64\n",
      "BLKA    30 non-null int64\n",
      "PF      30 non-null int64\n",
      "PFD     30 non-null int64\n",
      "+/-     30 non-null int64\n",
      "dtypes: float64(4), int64(22), object(1)\n",
      "memory usage: 6.5+ KB\n"
     ]
    }
   ],
   "source": [
    "team_df.info()"
   ]
  },
  {
   "cell_type": "code",
   "execution_count": 36,
   "metadata": {},
   "outputs": [
    {
     "data": {
      "text/plain": [
       "23.0"
      ]
     },
     "execution_count": 36,
     "metadata": {},
     "output_type": "execute_result"
    }
   ],
   "source": [
    "# There are 30 teams each with a max 15 player roster during the regular season. This results in ~450 players on a roster\n",
    "# at any given time. However, there are 530 players in this data set, so I will use 530 as the total players in the 2018-19\n",
    "# season. The difference is there are players who get cut or recruited throughout the season.\n",
    "# The square root is 23 players\n",
    "players = 530\n",
    "threshold = round(np.sqrt(players),0)\n",
    "threshold"
   ]
  },
  {
   "cell_type": "code",
   "execution_count": 27,
   "metadata": {},
   "outputs": [],
   "source": [
    "def price_law(col):\n",
    "    total = team_df[col].sum()\n",
    "    half = 0\n",
    "    n_players = 0\n",
    "\n",
    "    for index, stat in enumerate(player_df[col].sort_values(ascending=False)):\n",
    "        if half < 0.5*total:\n",
    "            half += stat\n",
    "            n_players = index\n",
    "            contribution = round(half/total,3)\n",
    "\n",
    "    return half, n_players, contribution"
   ]
  },
  {
   "cell_type": "code",
   "execution_count": 37,
   "metadata": {},
   "outputs": [
    {
     "data": {
      "text/plain": [
       "(59753, 21, 0.503)"
      ]
     },
     "execution_count": 37,
     "metadata": {},
     "output_type": "execute_result"
    }
   ],
   "source": [
    "price_law('MIN')"
   ]
  },
  {
   "cell_type": "code",
   "execution_count": 38,
   "metadata": {},
   "outputs": [],
   "source": [
    "categories = ['MIN', 'PTS', 'FGM', 'FGA', '3PM', '3PA', 'FTM', 'FTA', 'OREB', 'DREB', 'REB', 'AST', 'STL', 'BLK']"
   ]
  },
  {
   "cell_type": "code",
   "execution_count": 39,
   "metadata": {},
   "outputs": [
    {
     "data": {
      "text/plain": [
       "(137633, 103, 0.503)"
      ]
     },
     "execution_count": 39,
     "metadata": {},
     "output_type": "execute_result"
    }
   ],
   "source": [
    "price_law('PTS') #test on points"
   ]
  },
  {
   "cell_type": "code",
   "execution_count": 59,
   "metadata": {},
   "outputs": [],
   "source": [
    "def iterator(func):\n",
    "    n_players = []\n",
    "    contribution = []\n",
    "    for category in categories:\n",
    "        half, num, cont = func(category)\n",
    "        n_players.append(num)\n",
    "        contribution.append(cont)\n",
    "\n",
    "    return n_players, contribution, categories\n",
    "\n",
    "n_players, contribution, categories = iterator(price_law)\n",
    "    "
   ]
  },
  {
   "cell_type": "code",
   "execution_count": 114,
   "metadata": {
    "scrolled": false
   },
   "outputs": [
    {
     "data": {
      "image/png": "[encoded data removed]",
      "text/plain": [
       "<Figure size 1080x576 with 1 Axes>"
      ]
     },
     "metadata": {
      "needs_background": "light"
     },
     "output_type": "display_data"
    }
   ],
   "source": [
    "fig = plt.figure(figsize=(15,8))\n",
    "_=plt.bar(categories, n_players, color='#bbbbbb')\n",
    "_[0].set_color('#32cd32')\n",
    "_=plt.axhline(y=threshold, c='red')\n",
    "_=plt.title('Top Players Required to Reach 50% Total NBA Production', y=1.03, fontsize=20)\n",
    "_=plt.xlabel('Production Categories', fontsize=15)\n",
    "_=plt.ylabel('Number of Players', fontsize=15)\n",
    "_=plt.annotate(s='Red Line\\nis Price\\'s\\nThreshold\\n23 players', xy=[-0.5,27])"
   ]
  },
  {
   "cell_type": "markdown",
   "metadata": {},
   "source": [
    "While opportunity to produce seems to follow Price's Law (less than a square root of the total players monopolize half the minutes played), actual production fall short.Typically, it take between 80 and 100 of the top players ranked in descending order by statistical category to product half the results."
   ]
  },
  {
   "cell_type": "code",
   "execution_count": 54,
   "metadata": {},
   "outputs": [],
   "source": [
    "def empirical(col):\n",
    "    total = team_df[col].sum()\n",
    "    stats = 0\n",
    "    n_players = 0\n",
    "\n",
    "    for index, stat in enumerate(player_df[col].sort_values(ascending=False)):\n",
    "        if n_players < threshold:\n",
    "            stats += stat\n",
    "            n_players += 1\n",
    "            contribution = round(stats/total,3)\n",
    "\n",
    "    return stats, n_players, contribution"
   ]
  },
  {
   "cell_type": "code",
   "execution_count": 56,
   "metadata": {},
   "outputs": [
    {
     "data": {
      "text/plain": [
       "(42791, 23, 0.156)"
      ]
     },
     "execution_count": 56,
     "metadata": {},
     "output_type": "execute_result"
    }
   ],
   "source": [
    "empirical('PTS') #test on points"
   ]
  },
  {
   "cell_type": "code",
   "execution_count": 65,
   "metadata": {},
   "outputs": [],
   "source": [
    "num_players, real_contribution, categories = iterator(empirical)"
   ]
  },
  {
   "cell_type": "code",
   "execution_count": 113,
   "metadata": {
    "scrolled": false
   },
   "outputs": [
    {
     "data": {
      "image/png": "[encoded data removed]",
      "text/plain": [
       "<Figure size 1080x576 with 1 Axes>"
      ]
     },
     "metadata": {
      "needs_background": "light"
     },
     "output_type": "display_data"
    }
   ],
   "source": [
    "fig = plt.figure(figsize=(15,8))\n",
    "_= plt.bar(categories, real_contribution, color='#bbbbbb')\n",
    "_[0].set_color('#32cd32')\n",
    "_=plt.axhline(y=0.50, c='red')\n",
    "_=plt.title('Actual Production from 23 Top Players in Each Category (% Total)', y=1.03, fontsize=20)\n",
    "_=plt.xlabel('Production Categories', fontsize=15)\n",
    "_=plt.ylabel('Percent Contribution', fontsize=15)"
   ]
  },
  {
   "cell_type": "markdown",
   "metadata": {},
   "source": [
    "Again, the chart shows that the 23 top players account for over 50% of total minutes. However, the percent contribution from the top 23 players across each category ranges from 15-23 percent, well short of half."
   ]
  },
  {
   "cell_type": "code",
   "execution_count": 103,
   "metadata": {},
   "outputs": [
    {
     "data": {
      "text/plain": [
       "array([0.03962264, 0.19433962, 0.19433962, 0.20188679, 0.16226415,\n",
       "       0.17169811, 0.15283019, 0.15849057, 0.1509434 , 0.20377358,\n",
       "       0.19811321, 0.15849057, 0.20377358, 0.14528302])"
      ]
     },
     "execution_count": 103,
     "metadata": {},
     "output_type": "execute_result"
    }
   ],
   "source": [
    "pc_contributing_half = np.array(n_players)/players\n",
    "pc_contributing_half"
   ]
  },
  {
   "cell_type": "code",
   "execution_count": 112,
   "metadata": {},
   "outputs": [
    {
     "data": {
      "image/png": "[encoded data removed]",
      "text/plain": [
       "<Figure size 1080x576 with 1 Axes>"
      ]
     },
     "metadata": {
      "needs_background": "light"
     },
     "output_type": "display_data"
    }
   ],
   "source": [
    "fig = plt.figure(figsize=(15,8))\n",
    "_= plt.bar(categories, pc_contributing_half, color='#bbbbbb')\n",
    "_[0].set_color('#32cd32')\n",
    "_=plt.title('NBA Players it Takes to Reach 50% Production by Category', y=1.03, fontsize=20)\n",
    "_=plt.xlabel('Production Categories', fontsize=15)\n",
    "_=plt.ylabel('Fraction of Total Players', fontsize=15)\n",
    "_=plt.yticks([0.05, 0.10, 0.15, 0.20])"
   ]
  },
  {
   "cell_type": "markdown",
   "metadata": {},
   "source": [
    "Still, there is a relationship that is similar to Price's Law in that the top players contribute the majority of production. What's striking is that less than 4% of players monopolize half the minutes. Across all production categories, the top 15-20% of players contribute half of all production."
   ]
  },
  {
   "cell_type": "code",
   "execution_count": null,
   "metadata": {},
   "outputs": [],
   "source": []
  }
 ],
 "metadata": {
  "kernelspec": {
   "display_name": "Python 3",
   "language": "python",
   "name": "python3"
  },
  "language_info": {
   "codemirror_mode": {
    "name": "ipython",
    "version": 3
   },
   "file_extension": ".py",
   "mimetype": "text/x-python",
   "name": "python",
   "nbconvert_exporter": "python",
   "pygments_lexer": "ipython3",
   "version": "3.6.9"
  }
 },
 "nbformat": 4,
 "nbformat_minor": 2
}
